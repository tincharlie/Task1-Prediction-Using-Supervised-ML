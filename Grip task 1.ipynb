{
 "cells": [
  {
   "cell_type": "markdown",
   "id": "0e3a22d5",
   "metadata": {},
   "source": [
    "<h1 style=\"color:green\" align=\"center\"> Data Science & Business Analytics Intern</h1>\n",
    "<h1 style=\"color:green\" align=\"center\"> At </h1>\n",
    "<h1 style=\"color:green\" align=\"center\"> The Sparks Foundation</h1>\n",
    "<h1 style=\"color:green\" align=\"center\"> Vipul Shukla </h1>"
   ]
  },
  {
   "cell_type": "markdown",
   "id": "a38ad4e6",
   "metadata": {},
   "source": [
    "<h1 style=\"color:green\" align=\"center\"> Task 1 </h1>\n",
    "<h1 style=\"color:green\" align=\"center\"> Prediction using Supervised ML </h1>"
   ]
  },
  {
   "cell_type": "code",
   "execution_count": 1,
   "id": "14ccf7df",
   "metadata": {},
   "outputs": [],
   "source": [
    "## Importing libraries\n",
    "import pandas as pd\n",
    "import numpy as np\n",
    "import matplotlib.pyplot as plt"
   ]
  },
  {
   "cell_type": "markdown",
   "id": "d0e9fa5d",
   "metadata": {},
   "source": [
    "<h3 style=\"color:green\">Read the Data Using Url</h3>"
   ]
  },
  {
   "cell_type": "code",
   "execution_count": 2,
   "id": "62315c69",
   "metadata": {},
   "outputs": [],
   "source": [
    "%matplotlib inline\n",
    "url = 'http://bit.ly/w-data'"
   ]
  },
  {
   "cell_type": "code",
   "execution_count": 3,
   "id": "7e292859",
   "metadata": {},
   "outputs": [],
   "source": [
    "A = pd.read_csv(url)"
   ]
  },
  {
   "cell_type": "code",
   "execution_count": 4,
   "id": "b3c2b0af",
   "metadata": {},
   "outputs": [
    {
     "data": {
      "text/html": [
       "<div>\n",
       "<style scoped>\n",
       "    .dataframe tbody tr th:only-of-type {\n",
       "        vertical-align: middle;\n",
       "    }\n",
       "\n",
       "    .dataframe tbody tr th {\n",
       "        vertical-align: top;\n",
       "    }\n",
       "\n",
       "    .dataframe thead th {\n",
       "        text-align: right;\n",
       "    }\n",
       "</style>\n",
       "<table border=\"1\" class=\"dataframe\">\n",
       "  <thead>\n",
       "    <tr style=\"text-align: right;\">\n",
       "      <th></th>\n",
       "      <th>Hours</th>\n",
       "      <th>Scores</th>\n",
       "    </tr>\n",
       "  </thead>\n",
       "  <tbody>\n",
       "    <tr>\n",
       "      <th>0</th>\n",
       "      <td>2.5</td>\n",
       "      <td>21</td>\n",
       "    </tr>\n",
       "    <tr>\n",
       "      <th>1</th>\n",
       "      <td>5.1</td>\n",
       "      <td>47</td>\n",
       "    </tr>\n",
       "    <tr>\n",
       "      <th>2</th>\n",
       "      <td>3.2</td>\n",
       "      <td>27</td>\n",
       "    </tr>\n",
       "    <tr>\n",
       "      <th>3</th>\n",
       "      <td>8.5</td>\n",
       "      <td>75</td>\n",
       "    </tr>\n",
       "    <tr>\n",
       "      <th>4</th>\n",
       "      <td>3.5</td>\n",
       "      <td>30</td>\n",
       "    </tr>\n",
       "  </tbody>\n",
       "</table>\n",
       "</div>"
      ],
      "text/plain": [
       "   Hours  Scores\n",
       "0    2.5      21\n",
       "1    5.1      47\n",
       "2    3.2      27\n",
       "3    8.5      75\n",
       "4    3.5      30"
      ]
     },
     "execution_count": 4,
     "metadata": {},
     "output_type": "execute_result"
    }
   ],
   "source": [
    "A.head()"
   ]
  },
  {
   "cell_type": "markdown",
   "id": "2482343e",
   "metadata": {},
   "source": [
    "<h3 style=\"color:green\">Check If there Is Null Values</h3>"
   ]
  },
  {
   "cell_type": "code",
   "execution_count": 5,
   "id": "6a65944b",
   "metadata": {},
   "outputs": [
    {
     "name": "stdout",
     "output_type": "stream",
     "text": [
      "<class 'pandas.core.frame.DataFrame'>\n",
      "RangeIndex: 25 entries, 0 to 24\n",
      "Data columns (total 2 columns):\n",
      " #   Column  Non-Null Count  Dtype  \n",
      "---  ------  --------------  -----  \n",
      " 0   Hours   25 non-null     float64\n",
      " 1   Scores  25 non-null     int64  \n",
      "dtypes: float64(1), int64(1)\n",
      "memory usage: 528.0 bytes\n"
     ]
    }
   ],
   "source": [
    "A.info()"
   ]
  },
  {
   "cell_type": "markdown",
   "id": "9bfa1955",
   "metadata": {},
   "source": [
    "<h3 style=\"color:green\">Check which algo will be used here</h3>"
   ]
  },
  {
   "cell_type": "code",
   "execution_count": 6,
   "id": "ff3cbf3d",
   "metadata": {},
   "outputs": [
    {
     "data": {
      "image/png": "[encoded data removed]",
      "text/plain": [
       "<Figure size 432x288 with 1 Axes>"
      ]
     },
     "metadata": {
      "needs_background": "light"
     },
     "output_type": "display_data"
    }
   ],
   "source": [
    "A.plot(x='Hours', y='Scores', color = 'g', style=\"+\")\n",
    "plt.xlabel('Hours')\n",
    "plt.ylabel('Scores')\n",
    "plt.title('Percentage')\n",
    "plt.show()"
   ]
  },
  {
   "cell_type": "markdown",
   "id": "43b66fbf",
   "metadata": {},
   "source": [
    "**Here we can see the data point tell us to use linear regression model**"
   ]
  },
  {
   "cell_type": "markdown",
   "id": "7b3a75a3",
   "metadata": {},
   "source": [
    "<h3 style=\"color:green\">Preparing the Data</h3>"
   ]
  },
  {
   "cell_type": "code",
   "execution_count": 7,
   "id": "05939c70",
   "metadata": {},
   "outputs": [],
   "source": [
    "x = A.iloc[:,:-1]\n",
    "y= A.iloc[:,1]"
   ]
  },
  {
   "cell_type": "code",
   "execution_count": 8,
   "id": "798f9486",
   "metadata": {},
   "outputs": [],
   "source": [
    "from sklearn.model_selection import train_test_split"
   ]
  },
  {
   "cell_type": "code",
   "execution_count": 9,
   "id": "661d5954",
   "metadata": {},
   "outputs": [],
   "source": [
    "x_train, x_test, y_train, y_test = train_test_split(x,y,test_size=0.2,random_state=0)"
   ]
  },
  {
   "cell_type": "code",
   "execution_count": null,
   "id": "65b73412",
   "metadata": {},
   "outputs": [],
   "source": []
  },
  {
   "cell_type": "markdown",
   "id": "44a8fba4",
   "metadata": {},
   "source": [
    "<h3 style=\"color:green\">Train the algo</h3>"
   ]
  },
  {
   "cell_type": "code",
   "execution_count": 10,
   "id": "a72da654",
   "metadata": {},
   "outputs": [],
   "source": [
    "from sklearn.linear_model import LinearRegression"
   ]
  },
  {
   "cell_type": "code",
   "execution_count": 11,
   "id": "d7cb7c54",
   "metadata": {},
   "outputs": [],
   "source": [
    "reg = LinearRegression()"
   ]
  },
  {
   "cell_type": "code",
   "execution_count": 12,
   "id": "bc717827",
   "metadata": {},
   "outputs": [
    {
     "data": {
      "text/plain": [
       "LinearRegression()"
      ]
     },
     "execution_count": 12,
     "metadata": {},
     "output_type": "execute_result"
    }
   ],
   "source": [
    "reg.fit(x_train, y_train)"
   ]
  },
  {
   "cell_type": "code",
   "execution_count": 13,
   "id": "96cbe3db",
   "metadata": {},
   "outputs": [
    {
     "data": {
      "image/png": "[encoded data removed]",
      "text/plain": [
       "<Figure size 432x288 with 1 Axes>"
      ]
     },
     "metadata": {
      "needs_background": "light"
     },
     "output_type": "display_data"
    }
   ],
   "source": [
    "m=reg.coef_ # m ==> Slope\n",
    "b=reg.intercept_ # b ==> intercept\n",
    "l=m*x+b # straight line formula y = mx + b\n",
    "plt.scatter(x,y)\n",
    "plt.plot(x,l)\n",
    "plt.show()"
   ]
  },
  {
   "cell_type": "markdown",
   "id": "7e347632",
   "metadata": {},
   "source": [
    "<h2 style=\"color:green\">Making The Prediction</h2>"
   ]
  },
  {
   "cell_type": "code",
   "execution_count": 14,
   "id": "4cbf2bfe",
   "metadata": {},
   "outputs": [],
   "source": [
    "y_predxn = reg.predict(x_test)"
   ]
  },
  {
   "cell_type": "code",
   "execution_count": 15,
   "id": "70239eef",
   "metadata": {},
   "outputs": [
    {
     "data": {
      "text/plain": [
       "array([16.88414476, 33.73226078, 75.357018  , 26.79480124, 60.49103328])"
      ]
     },
     "execution_count": 15,
     "metadata": {},
     "output_type": "execute_result"
    }
   ],
   "source": [
    "y_predxn"
   ]
  },
  {
   "cell_type": "code",
   "execution_count": 16,
   "id": "eee641b1",
   "metadata": {},
   "outputs": [],
   "source": [
    "gen_pred = pd.DataFrame({'Target':y_test,'Prediction':y_predxn})"
   ]
  },
  {
   "cell_type": "code",
   "execution_count": 18,
   "id": "0445d5f1",
   "metadata": {},
   "outputs": [
    {
     "data": {
      "text/html": [
       "<div>\n",
       "<style scoped>\n",
       "    .dataframe tbody tr th:only-of-type {\n",
       "        vertical-align: middle;\n",
       "    }\n",
       "\n",
       "    .dataframe tbody tr th {\n",
       "        vertical-align: top;\n",
       "    }\n",
       "\n",
       "    .dataframe thead th {\n",
       "        text-align: right;\n",
       "    }\n",
       "</style>\n",
       "<table border=\"1\" class=\"dataframe\">\n",
       "  <thead>\n",
       "    <tr style=\"text-align: right;\">\n",
       "      <th></th>\n",
       "      <th>Target</th>\n",
       "      <th>Prediction</th>\n",
       "    </tr>\n",
       "  </thead>\n",
       "  <tbody>\n",
       "    <tr>\n",
       "      <th>5</th>\n",
       "      <td>20</td>\n",
       "      <td>16.884145</td>\n",
       "    </tr>\n",
       "    <tr>\n",
       "      <th>2</th>\n",
       "      <td>27</td>\n",
       "      <td>33.732261</td>\n",
       "    </tr>\n",
       "    <tr>\n",
       "      <th>19</th>\n",
       "      <td>69</td>\n",
       "      <td>75.357018</td>\n",
       "    </tr>\n",
       "    <tr>\n",
       "      <th>16</th>\n",
       "      <td>30</td>\n",
       "      <td>26.794801</td>\n",
       "    </tr>\n",
       "    <tr>\n",
       "      <th>11</th>\n",
       "      <td>62</td>\n",
       "      <td>60.491033</td>\n",
       "    </tr>\n",
       "  </tbody>\n",
       "</table>\n",
       "</div>"
      ],
      "text/plain": [
       "    Target  Prediction\n",
       "5       20   16.884145\n",
       "2       27   33.732261\n",
       "19      69   75.357018\n",
       "16      30   26.794801\n",
       "11      62   60.491033"
      ]
     },
     "execution_count": 18,
     "metadata": {},
     "output_type": "execute_result"
    }
   ],
   "source": [
    "gen_pred "
   ]
  },
  {
   "cell_type": "markdown",
   "id": "c61b3c6a",
   "metadata": {},
   "source": [
    "<h3 style=\"color:green\">When the student studies n no. of hrs the they will get x percentage PREDICTION</h3>"
   ]
  },
  {
   "cell_type": "code",
   "execution_count": 19,
   "id": "02b42fe1",
   "metadata": {},
   "outputs": [
    {
     "data": {
      "text/plain": [
       "array([93.69173249])"
      ]
     },
     "execution_count": 19,
     "metadata": {},
     "output_type": "execute_result"
    }
   ],
   "source": [
    "reg.predict([[9.25]])"
   ]
  },
  {
   "cell_type": "code",
   "execution_count": 20,
   "id": "de779c36",
   "metadata": {},
   "outputs": [
    {
     "name": "stdout",
     "output_type": "stream",
     "text": [
      "Study Hours Per Day: 6.5\n",
      "When he/she studies for 6.5 hrs daily then he/she will be scored [66.43742717] % \n"
     ]
    }
   ],
   "source": [
    "hrs = float(input(\"Study Hours Per Day: \"))\n",
    "s = reg.predict([[hrs]])\n",
    "print(\"When he/she studies for {} hrs daily then he/she will be scored {} % \".format(hrs,s))"
   ]
  },
  {
   "cell_type": "markdown",
   "id": "06d13cb7",
   "metadata": {},
   "source": [
    "<h2 style=\"color:green\">Model Evaluation</h2>"
   ]
  },
  {
   "cell_type": "markdown",
   "id": "5acbe812",
   "metadata": {},
   "source": [
    "**Now the last step to evaluate the model**"
   ]
  },
  {
   "cell_type": "code",
   "execution_count": 21,
   "id": "bea61c61",
   "metadata": {},
   "outputs": [
    {
     "name": "stdout",
     "output_type": "stream",
     "text": [
      "Mean Absolute Error:  4.183859899002975\n",
      "R2 Score: 0.9454906892105356\n"
     ]
    }
   ],
   "source": [
    "from sklearn import metrics\n",
    "from sklearn.metrics import r2_score\n",
    "print('Mean Absolute Error: ', metrics.mean_absolute_error(y_test, y_predxn))\n",
    "print('R2 Score:', r2_score(y_test, y_predxn))"
   ]
  },
  {
   "cell_type": "markdown",
   "id": "f81eb2e0",
   "metadata": {},
   "source": [
    "<h2 style=\"color:green\"> Here we can see our model is well suited because if any model is having the r^2 values near to 1 or almost 1 it means this algo is suited well to these prediction\n",
    "    <ul>Mean Absolute Error:  4.183859899002975\n",
    "    R2 Score: 0.9454906892105356</ul></h2>"
   ]
  },
  {
   "cell_type": "code",
   "execution_count": null,
   "id": "a0a95e76",
   "metadata": {},
   "outputs": [],
   "source": []
  },
  {
   "cell_type": "code",
   "execution_count": null,
   "id": "a9fac53c",
   "metadata": {},
   "outputs": [],
   "source": []
  },
  {
   "cell_type": "code",
   "execution_count": null,
   "id": "1ebea7ef",
   "metadata": {},
   "outputs": [],
   "source": []
  },
  {
   "cell_type": "code",
   "execution_count": null,
   "id": "c8187f31",
   "metadata": {},
   "outputs": [],
   "source": []
  },
  {
   "cell_type": "code",
   "execution_count": null,
   "id": "859757a9",
   "metadata": {},
   "outputs": [],
   "source": []
  },
  {
   "cell_type": "code",
   "execution_count": null,
   "id": "dfe9cbcc",
   "metadata": {},
   "outputs": [],
   "source": []
  },
  {
   "cell_type": "code",
   "execution_count": null,
   "id": "ee3d0532",
   "metadata": {},
   "outputs": [],
   "source": []
  },
  {
   "cell_type": "code",
   "execution_count": null,
   "id": "6fbd804c",
   "metadata": {},
   "outputs": [],
   "source": []
  },
  {
   "cell_type": "code",
   "execution_count": null,
   "id": "6c8c03ef",
   "metadata": {},
   "outputs": [],
   "source": []
  },
  {
   "cell_type": "code",
   "execution_count": null,
   "id": "4491e64f",
   "metadata": {},
   "outputs": [],
   "source": []
  }
 ],
 "metadata": {
  "kernelspec": {
   "display_name": "Python 3",
   "language": "python",
   "name": "python3"
  },
  "language_info": {
   "codemirror_mode": {
    "name": "ipython",
    "version": 3
   },
   "file_extension": ".py",
   "mimetype": "text/x-python",
   "name": "python",
   "nbconvert_exporter": "python",
   "pygments_lexer": "ipython3",
   "version": "3.8.8"
  }
 },
 "nbformat": 4,
 "nbformat_minor": 5
}
